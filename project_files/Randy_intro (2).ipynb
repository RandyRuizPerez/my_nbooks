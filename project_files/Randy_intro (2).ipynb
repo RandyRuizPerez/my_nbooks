{
 "cells": [
  {
   "cell_type": "markdown",
   "id": "df199baf-a488-42fe-b36e-ea1aa5c081a8",
   "metadata": {},
   "source": [
    "# First notebook"
   ]
  },
  {
   "cell_type": "markdown",
   "id": "aa03f342-9f92-4f56-b840-1757d0fe99b1",
   "metadata": {},
   "source": [
    "## Randy"
   ]
  },
  {
   "cell_type": "code",
   "execution_count": 27,
   "id": "19b172ab-7f9b-4a16-8fe0-ca56856c51fe",
   "metadata": {},
   "outputs": [],
   "source": [
    "import random"
   ]
  },
  {
   "cell_type": "code",
   "execution_count": 28,
   "id": "5fb52062-c19e-43a6-b870-695c85b31d43",
   "metadata": {},
   "outputs": [
    {
     "name": "stdout",
     "output_type": "stream",
     "text": [
      "66\n"
     ]
    }
   ],
   "source": [
    "random_number = random.randint(30,100) \n",
    "\n",
    "print(random_number)"
   ]
  },
  {
   "cell_type": "code",
   "execution_count": 29,
   "id": "ad5f717f-ff2b-4109-b675-7cd4f0cbaad7",
   "metadata": {},
   "outputs": [
    {
     "name": "stdout",
     "output_type": "stream",
     "text": [
      "[41, 74, 92, 86, 83, 83, 59, 82, 47, 56, 64, 68, 95, 36, 90, 70, 31, 66, 96, 93, 48, 58, 99, 47, 89, 78, 33, 81, 88, 91, 86, 54, 34, 34, 60, 63, 94, 46, 90, 66]\n"
     ]
    }
   ],
   "source": [
    "nums = [random.randint(30, 100) for _ in range(40)]\n",
    "\n",
    "print(nums)"
   ]
  },
  {
   "cell_type": "code",
   "execution_count": 30,
   "id": "3c246b6d-48ce-430a-9a9a-69935a9bd782",
   "metadata": {},
   "outputs": [
    {
     "name": "stdout",
     "output_type": "stream",
     "text": [
      "31 33 34 34 36 41 46 47 47 48 54 56 58 59 60 63 64 66 66 68 70 74 78 81 82 83 83 86 86 88 89 90 90 91 92 93 94 95 96 99 \n"
     ]
    }
   ],
   "source": [
    "nums.sort()\n",
    "\n",
    "for num in nums:\n",
    "    print(num, end=' ')\n",
    "\n",
    "print()"
   ]
  },
  {
   "cell_type": "markdown",
   "id": "29f217f6-5c60-4c9c-b6de-361f580d66bb",
   "metadata": {},
   "source": [
    "## The Sample Mean"
   ]
  },
  {
   "cell_type": "markdown",
   "id": "0ee4f99d-ad63-499c-8e55-1b1f2ef39912",
   "metadata": {},
   "source": [
    "* Add all numbers in the sample \n",
    "* Divide the sum by the total number of observations in the sample"
   ]
  },
  {
   "cell_type": "markdown",
   "id": "12fe4d70-c7b3-4497-867a-3b6061932c2a",
   "metadata": {},
   "source": [
    "$\\overline\\chi = \\frac{\\sum\\chi_{i}}{n}$"
   ]
  },
  {
   "cell_type": "code",
   "execution_count": 31,
   "id": "41621d5a-4ffa-4a56-bac1-2ef48cda6a59",
   "metadata": {},
   "outputs": [
    {
     "name": "stdout",
     "output_type": "stream",
     "text": [
      "Sample Mean: 68.78\n"
     ]
    }
   ],
   "source": [
    "sample_mean = sum(nums) / len(nums)\n",
    "\n",
    "print(f\"Sample Mean: {sample_mean:.2f}\")"
   ]
  },
  {
   "cell_type": "markdown",
   "id": "ac9f2888-ef39-4db3-9c6f-a6aca1e91472",
   "metadata": {},
   "source": [
    "## The Median"
   ]
  },
  {
   "cell_type": "markdown",
   "id": "62b5921e-89d9-45b9-aaa1-b2026747723a",
   "metadata": {},
   "source": [
    "Statistical median [definition](https://en.wikipedia.org/wiki/Median)."
   ]
  },
  {
   "cell_type": "code",
   "execution_count": 32,
   "id": "38e20cb9-df1e-4aa4-85f2-bc7cbceb0683",
   "metadata": {},
   "outputs": [
    {
     "name": "stdout",
     "output_type": "stream",
     "text": [
      "Median: 69.0\n"
     ]
    }
   ],
   "source": [
    "# If there are an even number of values, the median is the average values.\n",
    "\n",
    "sorted_nums = sorted(nums)\n",
    "length = len(sorted_nums)\n",
    "\n",
    "if length % 2 == 0:\n",
    "    median = (sorted_nums[length // 2 - 1] + sorted_nums[length // 2]) / 2\n",
    "else:\n",
    "    median = sorted_nums[length // 2]\n",
    "\n",
    "print (f\"Median: {median:.1f}\")\n",
    "    "
   ]
  },
  {
   "cell_type": "code",
   "execution_count": null,
   "id": "c06667df-6fd2-4365-8906-f190cecfc4e1",
   "metadata": {},
   "outputs": [],
   "source": []
  }
 ],
 "metadata": {
  "kernelspec": {
   "display_name": "Python 3 (ipykernel)",
   "language": "python",
   "name": "python3"
  },
  "language_info": {
   "codemirror_mode": {
    "name": "ipython",
    "version": 3
   },
   "file_extension": ".py",
   "mimetype": "text/x-python",
   "name": "python",
   "nbconvert_exporter": "python",
   "pygments_lexer": "ipython3",
   "version": "3.11.7"
  }
 },
 "nbformat": 4,
 "nbformat_minor": 5
}
